{
  "nbformat": 4,
  "nbformat_minor": 0,
  "metadata": {
    "colab": {
      "provenance": [],
      "authorship_tag": "ABX9TyNY/TAzJbD2BXi1o9yz8dft",
      "include_colab_link": true
    },
    "kernelspec": {
      "name": "python3",
      "display_name": "Python 3"
    },
    "language_info": {
      "name": "python"
    }
  },
  "cells": [
    {
      "cell_type": "markdown",
      "metadata": {
        "id": "view-in-github",
        "colab_type": "text"
      },
      "source": [
        "<a href=\"https://colab.research.google.com/github/nayema32/Pytorch/blob/main/1st_Assgn.ipynb\" target=\"_parent\"><img src=\"https://colab.research.google.com/assets/colab-badge.svg\" alt=\"Open In Colab\"/></a>"
      ]
    },
    {
      "cell_type": "markdown",
      "source": [
        "Defining Libraries"
      ],
      "metadata": {
        "id": "DuKLZv0GtQZi"
      }
    },
    {
      "cell_type": "code",
      "execution_count": 1,
      "metadata": {
        "id": "fMoiD3fUsW-8"
      },
      "outputs": [],
      "source": [
        "import torch\n",
        "from torch import nn\n",
        "from tqdm.auto import tqdm\n",
        "from torchvision import transforms\n",
        "from torchvision.datasets import MNIST # Training dataset\n",
        "from torchvision.utils import make_grid\n",
        "from torch.utils.data import DataLoader\n",
        "import matplotlib.pyplot as plt\n",
        "torch.manual_seed(0) # Set for testing purposes, please do not change!\n",
        "\n",
        "def show_tensor_images(image_tensor, num_images=25, size=(1, 28, 28)):\n",
        "    '''\n",
        "    Function for visualizing images: Given a tensor of images, number of images, and\n",
        "    size per image, plots and prints the images in a uniform grid.\n",
        "    '''\n",
        "    image_unflat = image_tensor.detach().cpu().view(-1, *size)\n",
        "    image_grid = make_grid(image_unflat[:num_images], nrow=5)\n",
        "    plt.imshow(image_grid.permute(1, 2, 0).squeeze())\n",
        "    plt.show()"
      ]
    },
    {
      "cell_type": "markdown",
      "source": [
        "Bulding Generator"
      ],
      "metadata": {
        "id": "jl7eS8Oztkb4"
      }
    },
    {
      "cell_type": "code",
      "source": [
        "import torch\n",
        "# UNQ_C2 (UNIQUE CELL IDENTIFIER, DO NOT EDIT)\n",
        "# GRADED FUNCTION: Generator\n",
        "class Generator(nn.Module):\n",
        "    '''\n",
        "    Generator Class\n",
        "    Values:\n",
        "        z_dim: the dimension of the noise vector, a scalar\n",
        "        im_dim: the dimension of the images, fitted for the dataset used, a scalar\n",
        "          (MNIST images are 28 x 28 = 784 so that is your default)\n",
        "        hidden_dim: the inner dimension, a scalar\n",
        "    '''\n",
        "    def __init__(self, z_dim=10, im_dim=784, hidden_dim=128):\n",
        "        super(Generator, self).__init__()\n",
        "        # Build the neural network\n",
        "        self.gen = nn.Sequential(\n",
        "            get_generator_block(z_dim, hidden_dim),\n",
        "            get_generator_block(hidden_dim, hidden_dim * 2),\n",
        "            get_generator_block(hidden_dim * 2, hidden_dim * 4),\n",
        "            get_generator_block(hidden_dim * 4, hidden_dim * 8),\n",
        "            # There is a dropdown with hints if you need them!\n",
        "            #### START CODE HERE ####\n",
        "            nn.Linear(hidden_dim * 8, im_dim),\n",
        "            nn.Sigmoid()\n",
        "            #### END CODE HERE ####\n",
        "        )\n",
        "    def forward(self, noise):\n",
        "        '''\n",
        "        Function for completing a forward pass of the generator: Given a noise tensor,\n",
        "        returns generated images.\n",
        "        Parameters:\n",
        "            noise: a noise tensor with dimensions (n_samples, z_dim)\n",
        "        '''\n",
        "        return self.gen(noise)\n",
        "\n",
        "    # Needed for grading\n",
        "    def get_gen(self):\n",
        "        '''\n",
        "        Returns:\n",
        "            the sequential model\n",
        "        '''\n",
        "        return self.gen\n",
        "# Verify the generator class\n",
        "def test_generator(z_dim, im_dim, hidden_dim, num_test=10000):\n",
        "    gen = Generator(z_dim, im_dim, hidden_dim).get_gen()\n",
        "\n",
        "    # Check there are six modules in the sequential part\n",
        "    assert len(gen) == 6\n",
        "    assert str(gen.__getitem__(4)).replace(' ', '') == f'Linear(in_features={hidden_dim * 8},out_features={im_dim},bias=True)'\n",
        "    assert str(gen.__getitem__(5)).replace(' ', '') == 'Sigmoid()'\n",
        "    test_input = torch.randn(num_test, z_dim)\n",
        "    test_output = gen(test_input)\n",
        "\n",
        "    # Check that the output shape is correct\n",
        "    assert tuple(test_output.shape) == (num_test, im_dim)\n",
        "    assert test_output.max() < 1, \"Make sure to use a sigmoid\"\n",
        "    assert test_output.min() > 0, \"Make sure to use a sigmoid\"\n",
        "    assert test_output.std() > 0.05, \"Don't use batchnorm here\"\n",
        "    assert test_output.std() < 0.15, \"Don't use batchnorm here\"\n",
        "\n",
        "test_generator(5, 10, 20)\n",
        "test_generator(20, 8, 24)\n",
        "print(\"Success!\")"
      ],
      "metadata": {
        "colab": {
          "base_uri": "https://localhost:8080/",
          "height": 356
        },
        "id": "5OrhMBy9xBss",
        "outputId": "37ccd758-c736-484c-c228-f44970620fbc"
      },
      "execution_count": 5,
      "outputs": [
        {
          "output_type": "error",
          "ename": "NameError",
          "evalue": "name 'get_generator_block' is not defined",
          "traceback": [
            "\u001b[0;31m---------------------------------------------------------------------------\u001b[0m",
            "\u001b[0;31mNameError\u001b[0m                                 Traceback (most recent call last)",
            "\u001b[0;32m<ipython-input-5-262c3a258158>\u001b[0m in \u001b[0;36m<cell line: 61>\u001b[0;34m()\u001b[0m\n\u001b[1;32m     59\u001b[0m     \u001b[0;32massert\u001b[0m \u001b[0mtest_output\u001b[0m\u001b[0;34m.\u001b[0m\u001b[0mstd\u001b[0m\u001b[0;34m(\u001b[0m\u001b[0;34m)\u001b[0m \u001b[0;34m<\u001b[0m \u001b[0;36m0.15\u001b[0m\u001b[0;34m,\u001b[0m \u001b[0;34m\"Don't use batchnorm here\"\u001b[0m\u001b[0;34m\u001b[0m\u001b[0;34m\u001b[0m\u001b[0m\n\u001b[1;32m     60\u001b[0m \u001b[0;34m\u001b[0m\u001b[0m\n\u001b[0;32m---> 61\u001b[0;31m \u001b[0mtest_generator\u001b[0m\u001b[0;34m(\u001b[0m\u001b[0;36m5\u001b[0m\u001b[0;34m,\u001b[0m \u001b[0;36m10\u001b[0m\u001b[0;34m,\u001b[0m \u001b[0;36m20\u001b[0m\u001b[0;34m)\u001b[0m\u001b[0;34m\u001b[0m\u001b[0;34m\u001b[0m\u001b[0m\n\u001b[0m\u001b[1;32m     62\u001b[0m \u001b[0mtest_generator\u001b[0m\u001b[0;34m(\u001b[0m\u001b[0;36m20\u001b[0m\u001b[0;34m,\u001b[0m \u001b[0;36m8\u001b[0m\u001b[0;34m,\u001b[0m \u001b[0;36m24\u001b[0m\u001b[0;34m)\u001b[0m\u001b[0;34m\u001b[0m\u001b[0;34m\u001b[0m\u001b[0m\n\u001b[1;32m     63\u001b[0m \u001b[0mprint\u001b[0m\u001b[0;34m(\u001b[0m\u001b[0;34m\"Success!\"\u001b[0m\u001b[0;34m)\u001b[0m\u001b[0;34m\u001b[0m\u001b[0;34m\u001b[0m\u001b[0m\n",
            "\u001b[0;32m<ipython-input-5-262c3a258158>\u001b[0m in \u001b[0;36mtest_generator\u001b[0;34m(z_dim, im_dim, hidden_dim, num_test)\u001b[0m\n\u001b[1;32m     43\u001b[0m \u001b[0;31m# Verify the generator class\u001b[0m\u001b[0;34m\u001b[0m\u001b[0;34m\u001b[0m\u001b[0m\n\u001b[1;32m     44\u001b[0m \u001b[0;32mdef\u001b[0m \u001b[0mtest_generator\u001b[0m\u001b[0;34m(\u001b[0m\u001b[0mz_dim\u001b[0m\u001b[0;34m,\u001b[0m \u001b[0mim_dim\u001b[0m\u001b[0;34m,\u001b[0m \u001b[0mhidden_dim\u001b[0m\u001b[0;34m,\u001b[0m \u001b[0mnum_test\u001b[0m\u001b[0;34m=\u001b[0m\u001b[0;36m10000\u001b[0m\u001b[0;34m)\u001b[0m\u001b[0;34m:\u001b[0m\u001b[0;34m\u001b[0m\u001b[0;34m\u001b[0m\u001b[0m\n\u001b[0;32m---> 45\u001b[0;31m     \u001b[0mgen\u001b[0m \u001b[0;34m=\u001b[0m \u001b[0mGenerator\u001b[0m\u001b[0;34m(\u001b[0m\u001b[0mz_dim\u001b[0m\u001b[0;34m,\u001b[0m \u001b[0mim_dim\u001b[0m\u001b[0;34m,\u001b[0m \u001b[0mhidden_dim\u001b[0m\u001b[0;34m)\u001b[0m\u001b[0;34m.\u001b[0m\u001b[0mget_gen\u001b[0m\u001b[0;34m(\u001b[0m\u001b[0;34m)\u001b[0m\u001b[0;34m\u001b[0m\u001b[0;34m\u001b[0m\u001b[0m\n\u001b[0m\u001b[1;32m     46\u001b[0m \u001b[0;34m\u001b[0m\u001b[0m\n\u001b[1;32m     47\u001b[0m     \u001b[0;31m# Check there are six modules in the sequential part\u001b[0m\u001b[0;34m\u001b[0m\u001b[0;34m\u001b[0m\u001b[0m\n",
            "\u001b[0;32m<ipython-input-5-262c3a258158>\u001b[0m in \u001b[0;36m__init__\u001b[0;34m(self, z_dim, im_dim, hidden_dim)\u001b[0m\n\u001b[1;32m     15\u001b[0m         \u001b[0;31m# Build the neural network\u001b[0m\u001b[0;34m\u001b[0m\u001b[0;34m\u001b[0m\u001b[0m\n\u001b[1;32m     16\u001b[0m         self.gen = nn.Sequential(\n\u001b[0;32m---> 17\u001b[0;31m             \u001b[0mget_generator_block\u001b[0m\u001b[0;34m(\u001b[0m\u001b[0mz_dim\u001b[0m\u001b[0;34m,\u001b[0m \u001b[0mhidden_dim\u001b[0m\u001b[0;34m)\u001b[0m\u001b[0;34m,\u001b[0m\u001b[0;34m\u001b[0m\u001b[0;34m\u001b[0m\u001b[0m\n\u001b[0m\u001b[1;32m     18\u001b[0m             \u001b[0mget_generator_block\u001b[0m\u001b[0;34m(\u001b[0m\u001b[0mhidden_dim\u001b[0m\u001b[0;34m,\u001b[0m \u001b[0mhidden_dim\u001b[0m \u001b[0;34m*\u001b[0m \u001b[0;36m2\u001b[0m\u001b[0;34m)\u001b[0m\u001b[0;34m,\u001b[0m\u001b[0;34m\u001b[0m\u001b[0;34m\u001b[0m\u001b[0m\n\u001b[1;32m     19\u001b[0m             \u001b[0mget_generator_block\u001b[0m\u001b[0;34m(\u001b[0m\u001b[0mhidden_dim\u001b[0m \u001b[0;34m*\u001b[0m \u001b[0;36m2\u001b[0m\u001b[0;34m,\u001b[0m \u001b[0mhidden_dim\u001b[0m \u001b[0;34m*\u001b[0m \u001b[0;36m4\u001b[0m\u001b[0;34m)\u001b[0m\u001b[0;34m,\u001b[0m\u001b[0;34m\u001b[0m\u001b[0;34m\u001b[0m\u001b[0m\n",
            "\u001b[0;31mNameError\u001b[0m: name 'get_generator_block' is not defined"
          ]
        }
      ]
    },
    {
      "cell_type": "markdown",
      "source": [
        "Noise\n"
      ],
      "metadata": {
        "id": "Qz1yr-9p2vrw"
      }
    },
    {
      "cell_type": "code",
      "source": [
        "# UNQ_C3 (UNIQUE CELL IDENTIFIER, DO NOT EDIT)\n",
        "# GRADED FUNCTION: get_noise\n",
        "def get_noise(n_samples, z_dim, device='cpu'):\n",
        "    '''\n",
        "    Function for creating noise vectors: Given the dimensions (n_samples, z_dim),\n",
        "    creates a tensor of that shape filled with random numbers from the normal distribution.\n",
        "    Parameters:\n",
        "        n_samples: the number of samples to generate, a scalar\n",
        "        z_dim: the dimension of the noise vector, a scalar\n",
        "        device: the device type\n",
        "    '''\n",
        "    # NOTE: To use this on GPU with device='cuda', make sure to pass the device\n",
        "    # argument to the function you use to generate the noise.\n",
        "    #### START CODE HERE ####\n",
        "    return torch.randn(n_samples,z_dim,device=device)\n",
        "    #### END CODE HERE ####"
      ],
      "metadata": {
        "id": "MRQ4vjDk2yVe"
      },
      "execution_count": null,
      "outputs": []
    },
    {
      "cell_type": "code",
      "source": [
        "# Verify the noise vector function\n",
        "def test_get_noise(n_samples, z_dim, device='cpu'):\n",
        "    noise = get_noise(n_samples, z_dim, device)\n",
        "\n",
        "    # Make sure a normal distribution was used\n",
        "    assert tuple(noise.shape) == (n_samples, z_dim)\n",
        "    assert torch.abs(noise.std() - torch.tensor(1.0)) < 0.01\n",
        "    assert str(noise.device).startswith(device)\n",
        "\n",
        "test_get_noise(1000, 100, 'cpu')\n",
        "if torch.cuda.is_available():\n",
        "    test_get_noise(1000, 32, 'cuda')\n",
        "print(\"Success!\")"
      ],
      "metadata": {
        "colab": {
          "base_uri": "https://localhost:8080/"
        },
        "id": "RfUQisol25wg",
        "outputId": "11505f48-09b9-44dc-b455-0b965c924b91"
      },
      "execution_count": null,
      "outputs": [
        {
          "output_type": "stream",
          "name": "stdout",
          "text": [
            "Success!\n"
          ]
        }
      ]
    },
    {
      "cell_type": "markdown",
      "source": [
        "Discriminator"
      ],
      "metadata": {
        "id": "woAIpjFk3QqQ"
      }
    },
    {
      "cell_type": "code",
      "source": [
        "# UNQ_C4 (UNIQUE CELL IDENTIFIER, DO NOT EDIT)\n",
        "# GRADED FUNCTION: get_discriminator_block\n",
        "def get_discriminator_block(input_dim, output_dim):\n",
        "    '''\n",
        "    Discriminator Block\n",
        "    Function for returning a neural network of the discriminator given input and output dimensions.\n",
        "    Parameters:\n",
        "        input_dim: the dimension of the input vector, a scalar\n",
        "        output_dim: the dimension of the output vector, a scalar\n",
        "    Returns:\n",
        "        a discriminator neural network layer, with a linear transformation\n",
        "          followed by an nn.LeakyReLU activation with negative slope of 0.2\n",
        "          (https://pytorch.org/docs/master/generated/torch.nn.LeakyReLU.html)\n",
        "    '''\n",
        "    return nn.Sequential(\n",
        "        #### START CODE HERE ####\n",
        "         nn.Linear(input_dim, output_dim), #Layer 1\n",
        "         nn.LeakyReLU(0.2, inplace=True)\n",
        "        #### END CODE HERE ####\n",
        "    )"
      ],
      "metadata": {
        "id": "04RpQ_Fr3Sc9"
      },
      "execution_count": null,
      "outputs": []
    },
    {
      "cell_type": "code",
      "source": [
        "# Verify the discriminator block function\n",
        "def test_disc_block(in_features, out_features, num_test=10000):\n",
        "    block = get_discriminator_block(in_features, out_features)\n",
        "\n",
        "    # Check there are two parts\n",
        "    assert len(block) == 2\n",
        "    test_input = torch.randn(num_test, in_features)\n",
        "    test_output = block(test_input)\n",
        "\n",
        "    # Check that the shape is right\n",
        "    assert tuple(test_output.shape) == (num_test, out_features)\n",
        "\n",
        "    # Check that the LeakyReLU slope is about 0.2\n",
        "    assert -test_output.min() / test_output.max() > 0.1\n",
        "    assert -test_output.min() / test_output.max() < 0.3\n",
        "    assert test_output.std() > 0.3\n",
        "    assert test_output.std() < 0.5\n",
        "\n",
        "    assert str(block.__getitem__(0)).replace(' ', '') == f'Linear(in_features={in_features},out_features={out_features},bias=True)'\n",
        "    assert str(block.__getitem__(1)).replace(' ', '').replace(',inplace=True', '') == 'LeakyReLU(negative_slope=0.2)'\n",
        "\n",
        "\n",
        "test_disc_block(25, 12)\n",
        "test_disc_block(15, 28)\n",
        "print(\"Success!\")"
      ],
      "metadata": {
        "colab": {
          "base_uri": "https://localhost:8080/"
        },
        "id": "qJdqhfqF3V9j",
        "outputId": "1a60eb60-3ccb-4f35-e3fa-9cc25f038084"
      },
      "execution_count": null,
      "outputs": [
        {
          "output_type": "stream",
          "name": "stdout",
          "text": [
            "Success!\n"
          ]
        }
      ]
    },
    {
      "cell_type": "markdown",
      "source": [
        "Using Discriminator's NN"
      ],
      "metadata": {
        "id": "3zpJJ_2u3vVG"
      }
    },
    {
      "cell_type": "code",
      "source": [
        "# UNQ_C5 (UNIQUE CELL IDENTIFIER, DO NOT EDIT)\n",
        "# GRADED FUNCTION: Discriminator\n",
        "class Discriminator(nn.Module):\n",
        "    '''\n",
        "    Discriminator Class\n",
        "    Values:\n",
        "        im_dim: the dimension of the images, fitted for the dataset used, a scalar\n",
        "            (MNIST images are 28x28 = 784 so that is your default)\n",
        "        hidden_dim: the inner dimension, a scalar\n",
        "    '''\n",
        "    def __init__(self, im_dim=784, hidden_dim=128):\n",
        "        super(Discriminator, self).__init__()\n",
        "        self.disc = nn.Sequential(\n",
        "            get_discriminator_block(im_dim, hidden_dim * 4),\n",
        "            get_discriminator_block(hidden_dim * 4, hidden_dim * 2),\n",
        "            get_discriminator_block(hidden_dim * 2, hidden_dim),\n",
        "            # Hint: You want to transform the final output into a single value,\n",
        "            #       so add one more linear map.\n",
        "            #### START CODE HERE ####\n",
        "            nn.Linear(hidden_dim, 1)\n",
        "            #### END CODE HERE ####\n",
        "        )\n",
        "\n",
        "    def forward(self, image):\n",
        "        '''\n",
        "        Function for completing a forward pass of the discriminator: Given an image tensor,\n",
        "        returns a 1-dimension tensor representing fake/real.\n",
        "        Parameters:\n",
        "            image: a flattened image tensor with dimension (im_dim)\n",
        "        '''\n",
        "        return self.disc(image)\n",
        "\n",
        "    # Needed for grading\n",
        "    def get_disc(self):\n",
        "        '''\n",
        "        Returns:\n",
        "            the sequential model\n",
        "        '''\n",
        "        return self.disc\n",
        "# Verify the discriminator class\n",
        "def test_discriminator(z_dim, hidden_dim, num_test=100):\n",
        "\n",
        "    disc = Discriminator(z_dim, hidden_dim).get_disc()\n",
        "\n",
        "    # Check there are three parts\n",
        "    assert len(disc) == 4\n",
        "    assert type(disc.__getitem__(3)) == nn.Linear\n",
        "\n",
        "    # Check the linear layer is correct\n",
        "    test_input = torch.randn(num_test, z_dim)\n",
        "    test_output = disc(test_input)\n",
        "    assert tuple(test_output.shape) == (num_test, 1)\n",
        "\n",
        "test_discriminator(5, 10)\n",
        "test_discriminator(20, 8)\n",
        "print(\"Success!\")"
      ],
      "metadata": {
        "colab": {
          "base_uri": "https://localhost:8080/"
        },
        "id": "80svGOhe3yO4",
        "outputId": "0378990e-1ec1-4b2f-e4a8-15f1c440c13c"
      },
      "execution_count": null,
      "outputs": [
        {
          "output_type": "stream",
          "name": "stdout",
          "text": [
            "Success!\n"
          ]
        }
      ]
    },
    {
      "cell_type": "markdown",
      "source": [
        "Loading MNIST dataset as tensor as dataloader"
      ],
      "metadata": {
        "id": "gd0-Uddl4EDz"
      }
    },
    {
      "cell_type": "code",
      "source": [
        "# Set your parameters\n",
        "criterion = nn.BCEWithLogitsLoss()\n",
        "n_epochs = 200\n",
        "z_dim = 64\n",
        "display_step = 500\n",
        "batch_size = 128\n",
        "lr = 0.00001\n",
        "device = 'cuda'\n",
        "\n",
        "# Load MNIST dataset as tensors\n",
        "dataloader = DataLoader(\n",
        "    MNIST('.', download=True, transform=transforms.ToTensor()),  # Modify download to True\n",
        "    batch_size=batch_size,\n",
        "    shuffle=True)"
      ],
      "metadata": {
        "colab": {
          "base_uri": "https://localhost:8080/"
        },
        "id": "wLLlogzi4Im3",
        "outputId": "28b511b7-bcb1-43f1-8a28-f7efab17c44b"
      },
      "execution_count": null,
      "outputs": [
        {
          "output_type": "stream",
          "name": "stdout",
          "text": [
            "Downloading http://yann.lecun.com/exdb/mnist/train-images-idx3-ubyte.gz\n",
            "Failed to download (trying next):\n",
            "HTTP Error 403: Forbidden\n",
            "\n",
            "Downloading https://ossci-datasets.s3.amazonaws.com/mnist/train-images-idx3-ubyte.gz\n",
            "Downloading https://ossci-datasets.s3.amazonaws.com/mnist/train-images-idx3-ubyte.gz to ./MNIST/raw/train-images-idx3-ubyte.gz\n"
          ]
        },
        {
          "output_type": "stream",
          "name": "stderr",
          "text": [
            "100%|██████████| 9912422/9912422 [00:00<00:00, 133320008.22it/s]\n"
          ]
        },
        {
          "output_type": "stream",
          "name": "stdout",
          "text": [
            "Extracting ./MNIST/raw/train-images-idx3-ubyte.gz to ./MNIST/raw\n",
            "\n",
            "Downloading http://yann.lecun.com/exdb/mnist/train-labels-idx1-ubyte.gz\n",
            "Failed to download (trying next):\n",
            "HTTP Error 403: Forbidden\n",
            "\n",
            "Downloading https://ossci-datasets.s3.amazonaws.com/mnist/train-labels-idx1-ubyte.gz\n",
            "Downloading https://ossci-datasets.s3.amazonaws.com/mnist/train-labels-idx1-ubyte.gz to ./MNIST/raw/train-labels-idx1-ubyte.gz\n"
          ]
        },
        {
          "output_type": "stream",
          "name": "stderr",
          "text": [
            "100%|██████████| 28881/28881 [00:00<00:00, 23608593.61it/s]"
          ]
        },
        {
          "output_type": "stream",
          "name": "stdout",
          "text": [
            "Extracting ./MNIST/raw/train-labels-idx1-ubyte.gz to ./MNIST/raw\n",
            "\n",
            "Downloading http://yann.lecun.com/exdb/mnist/t10k-images-idx3-ubyte.gz\n",
            "Failed to download (trying next):\n",
            "HTTP Error 403: Forbidden\n",
            "\n",
            "Downloading https://ossci-datasets.s3.amazonaws.com/mnist/t10k-images-idx3-ubyte.gz\n",
            "Downloading https://ossci-datasets.s3.amazonaws.com/mnist/t10k-images-idx3-ubyte.gz to ./MNIST/raw/t10k-images-idx3-ubyte.gz\n"
          ]
        },
        {
          "output_type": "stream",
          "name": "stderr",
          "text": [
            "\n",
            "100%|██████████| 1648877/1648877 [00:00<00:00, 61726984.98it/s]\n"
          ]
        },
        {
          "output_type": "stream",
          "name": "stdout",
          "text": [
            "Extracting ./MNIST/raw/t10k-images-idx3-ubyte.gz to ./MNIST/raw\n",
            "\n",
            "Downloading http://yann.lecun.com/exdb/mnist/t10k-labels-idx1-ubyte.gz\n",
            "Failed to download (trying next):\n",
            "HTTP Error 403: Forbidden\n",
            "\n",
            "Downloading https://ossci-datasets.s3.amazonaws.com/mnist/t10k-labels-idx1-ubyte.gz\n",
            "Downloading https://ossci-datasets.s3.amazonaws.com/mnist/t10k-labels-idx1-ubyte.gz to ./MNIST/raw/t10k-labels-idx1-ubyte.gz\n"
          ]
        },
        {
          "output_type": "stream",
          "name": "stderr",
          "text": [
            "100%|██████████| 4542/4542 [00:00<00:00, 3782869.10it/s]\n"
          ]
        },
        {
          "output_type": "stream",
          "name": "stdout",
          "text": [
            "Extracting ./MNIST/raw/t10k-labels-idx1-ubyte.gz to ./MNIST/raw\n",
            "\n"
          ]
        }
      ]
    },
    {
      "cell_type": "markdown",
      "source": [
        "Initializing Generator,Discriminator and Optimizer"
      ],
      "metadata": {
        "id": "xffJRtKS8jb8"
      }
    },
    {
      "cell_type": "code",
      "source": [
        "device = 'cpu'\n",
        "gen = Generator(z_dim).to(device)\n",
        "gen_opt = torch.optim.Adam(gen.parameters(), lr=lr)\n",
        "disc = Discriminator().to(device)\n",
        "disc_opt = torch.optim.Adam(disc.parameters(), lr=lr)"
      ],
      "metadata": {
        "id": "wiTjeAjp8JjY",
        "colab": {
          "base_uri": "https://localhost:8080/",
          "height": 332
        },
        "outputId": "04caf383-1fdd-419c-891a-7319917a37ed"
      },
      "execution_count": null,
      "outputs": [
        {
          "output_type": "error",
          "ename": "NameError",
          "evalue": "name 'get_generator_block' is not defined",
          "traceback": [
            "\u001b[0;31m---------------------------------------------------------------------------\u001b[0m",
            "\u001b[0;31mNameError\u001b[0m                                 Traceback (most recent call last)",
            "\u001b[0;32m<ipython-input-16-96efa7289a63>\u001b[0m in \u001b[0;36m<cell line: 2>\u001b[0;34m()\u001b[0m\n\u001b[1;32m      1\u001b[0m \u001b[0mdevice\u001b[0m \u001b[0;34m=\u001b[0m \u001b[0;34m'cpu'\u001b[0m\u001b[0;34m\u001b[0m\u001b[0;34m\u001b[0m\u001b[0m\n\u001b[0;32m----> 2\u001b[0;31m \u001b[0mgen\u001b[0m \u001b[0;34m=\u001b[0m \u001b[0mGenerator\u001b[0m\u001b[0;34m(\u001b[0m\u001b[0mz_dim\u001b[0m\u001b[0;34m)\u001b[0m\u001b[0;34m.\u001b[0m\u001b[0mto\u001b[0m\u001b[0;34m(\u001b[0m\u001b[0mdevice\u001b[0m\u001b[0;34m)\u001b[0m\u001b[0;34m\u001b[0m\u001b[0;34m\u001b[0m\u001b[0m\n\u001b[0m\u001b[1;32m      3\u001b[0m \u001b[0mgen_opt\u001b[0m \u001b[0;34m=\u001b[0m \u001b[0mtorch\u001b[0m\u001b[0;34m.\u001b[0m\u001b[0moptim\u001b[0m\u001b[0;34m.\u001b[0m\u001b[0mAdam\u001b[0m\u001b[0;34m(\u001b[0m\u001b[0mgen\u001b[0m\u001b[0;34m.\u001b[0m\u001b[0mparameters\u001b[0m\u001b[0;34m(\u001b[0m\u001b[0;34m)\u001b[0m\u001b[0;34m,\u001b[0m \u001b[0mlr\u001b[0m\u001b[0;34m=\u001b[0m\u001b[0mlr\u001b[0m\u001b[0;34m)\u001b[0m\u001b[0;34m\u001b[0m\u001b[0;34m\u001b[0m\u001b[0m\n\u001b[1;32m      4\u001b[0m \u001b[0mdisc\u001b[0m \u001b[0;34m=\u001b[0m \u001b[0mDiscriminator\u001b[0m\u001b[0;34m(\u001b[0m\u001b[0;34m)\u001b[0m\u001b[0;34m.\u001b[0m\u001b[0mto\u001b[0m\u001b[0;34m(\u001b[0m\u001b[0mdevice\u001b[0m\u001b[0;34m)\u001b[0m\u001b[0;34m\u001b[0m\u001b[0;34m\u001b[0m\u001b[0m\n\u001b[1;32m      5\u001b[0m \u001b[0mdisc_opt\u001b[0m \u001b[0;34m=\u001b[0m \u001b[0mtorch\u001b[0m\u001b[0;34m.\u001b[0m\u001b[0moptim\u001b[0m\u001b[0;34m.\u001b[0m\u001b[0mAdam\u001b[0m\u001b[0;34m(\u001b[0m\u001b[0mdisc\u001b[0m\u001b[0;34m.\u001b[0m\u001b[0mparameters\u001b[0m\u001b[0;34m(\u001b[0m\u001b[0;34m)\u001b[0m\u001b[0;34m,\u001b[0m \u001b[0mlr\u001b[0m\u001b[0;34m=\u001b[0m\u001b[0mlr\u001b[0m\u001b[0;34m)\u001b[0m\u001b[0;34m\u001b[0m\u001b[0;34m\u001b[0m\u001b[0m\n",
            "\u001b[0;32m<ipython-input-9-7014ed9cdead>\u001b[0m in \u001b[0;36m__init__\u001b[0;34m(self, z_dim, im_dim, hidden_dim)\u001b[0m\n\u001b[1;32m     14\u001b[0m         \u001b[0;31m# Build the neural network\u001b[0m\u001b[0;34m\u001b[0m\u001b[0;34m\u001b[0m\u001b[0m\n\u001b[1;32m     15\u001b[0m         self.gen = nn.Sequential(\n\u001b[0;32m---> 16\u001b[0;31m             \u001b[0mget_generator_block\u001b[0m\u001b[0;34m(\u001b[0m\u001b[0mz_dim\u001b[0m\u001b[0;34m,\u001b[0m \u001b[0mhidden_dim\u001b[0m\u001b[0;34m)\u001b[0m\u001b[0;34m,\u001b[0m\u001b[0;34m\u001b[0m\u001b[0;34m\u001b[0m\u001b[0m\n\u001b[0m\u001b[1;32m     17\u001b[0m             \u001b[0mget_generator_block\u001b[0m\u001b[0;34m(\u001b[0m\u001b[0mhidden_dim\u001b[0m\u001b[0;34m,\u001b[0m \u001b[0mhidden_dim\u001b[0m \u001b[0;34m*\u001b[0m \u001b[0;36m2\u001b[0m\u001b[0;34m)\u001b[0m\u001b[0;34m,\u001b[0m\u001b[0;34m\u001b[0m\u001b[0;34m\u001b[0m\u001b[0m\n\u001b[1;32m     18\u001b[0m             \u001b[0mget_generator_block\u001b[0m\u001b[0;34m(\u001b[0m\u001b[0mhidden_dim\u001b[0m \u001b[0;34m*\u001b[0m \u001b[0;36m2\u001b[0m\u001b[0;34m,\u001b[0m \u001b[0mhidden_dim\u001b[0m \u001b[0;34m*\u001b[0m \u001b[0;36m4\u001b[0m\u001b[0;34m)\u001b[0m\u001b[0;34m,\u001b[0m\u001b[0;34m\u001b[0m\u001b[0;34m\u001b[0m\u001b[0m\n",
            "\u001b[0;31mNameError\u001b[0m: name 'get_generator_block' is not defined"
          ]
        }
      ]
    },
    {
      "cell_type": "code",
      "source": [
        "# UNQ_C6 (UNIQUE CELL IDENTIFIER, DO NOT EDIT)\n",
        "# GRADED FUNCTION: get_disc_loss\n",
        "def get_disc_loss(gen, disc, criterion, real, num_images, z_dim, device):\n",
        "    '''\n",
        "    Return the loss of the discriminator given inputs.\n",
        "    Parameters:\n",
        "        gen: the generator model, which returns an image given z-dimensional noise\n",
        "        disc: the discriminator model, which returns a single-dimensional prediction of real/fake\n",
        "        criterion: the loss function, which should be used to compare\n",
        "               the discriminator's predictions to the ground truth reality of the images\n",
        "               (e.g. fake = 0, real = 1)\n",
        "        real: a batch of real images\n",
        "        num_images: the number of images the generator should produce,\n",
        "                which is also the length of the real images\n",
        "        z_dim: the dimension of the noise vector, a scalar\n",
        "        device: the device type\n",
        "    Returns:\n",
        "        disc_loss: a torch scalar loss value for the current batch\n",
        "    '''\n",
        "    #     These are the steps you will need to complete:\n",
        "    #       1) Create noise vectors and generate a batch (num_images) of fake images.\n",
        "    #            Make sure to pass the device argument to the noise.\n",
        "    #       2) Get the discriminator's prediction of the fake image\n",
        "    #            and calculate the loss. Don't forget to detach the generator!\n",
        "    #            (Remember the loss function you set earlier -- criterion. You need a\n",
        "    #            'ground truth' tensor in order to calculate the loss.\n",
        "    #            For example, a ground truth tensor for a fake image is all zeros.)\n",
        "    #       3) Get the discriminator's prediction of the real image and calculate the loss.\n",
        "    #       4) Calculate the discriminator's loss by averaging the real and fake loss\n",
        "    #            and set it to disc_loss.\n",
        "    #     *Important*: You should NOT write your own loss function here - use criterion(pred, true)!\n",
        "    #### START CODE HERE ####\n",
        "    fake_noise = get_noise(num_images, z_dim, device=device)\n",
        "    fake = gen(fake_noise)\n",
        "    disc_fake_pred = disc(fake.detach())\n",
        "    disc_fake_loss = criterion(disc_fake_pred, torch.zeros_like(disc_fake_pred))\n",
        "    disc_real_pred = disc(real)\n",
        "    disc_real_loss = criterion(disc_real_pred, torch.ones_like(disc_real_pred))\n",
        "    disc_loss = (disc_fake_loss + disc_real_loss) / 2\n",
        "    #### END CODE HERE ####\n",
        "    return disc_loss\n",
        "def test_disc_reasonable(num_images=10):\n",
        "    z_dim = 64\n",
        "    gen = torch.zeros_like\n",
        "    disc = nn.Identity()\n",
        "    criterion = torch.mul # Multiply\n",
        "    real = torch.ones(num_images, 1)\n",
        "    disc_loss = get_disc_loss(gen, disc, criterion, real, num_images, z_dim, 'cpu')\n",
        "    assert tuple(disc_loss.shape) == (num_images, z_dim)\n",
        "    assert torch.all(torch.abs(disc_loss - 0.5) < 1e-5)\n",
        "\n",
        "    gen = torch.ones_like\n",
        "    disc = nn.Identity()\n",
        "    criterion = torch.mul # Multiply\n",
        "    real = torch.zeros(num_images, 1)\n",
        "    assert torch.all(torch.abs(get_disc_loss(gen, disc, criterion, real, num_images, z_dim, 'cpu')) < 1e-5)\n",
        "\n",
        "def test_disc_loss(max_tests = 10):\n",
        "    z_dim = 64\n",
        "    gen = Generator(z_dim).to(device)\n",
        "    gen_opt = torch.optim.Adam(gen.parameters(), lr=lr)\n",
        "    disc = Discriminator().to(device)\n",
        "    disc_opt = torch.optim.Adam(disc.parameters(), lr=lr)\n",
        "    num_steps = 0\n",
        "    for real, _ in dataloader:\n",
        "        cur_batch_size = len(real)\n",
        "        real = real.view(cur_batch_size, -1).to(device)\n",
        "\n",
        "        ### Update discriminator ###\n",
        "        # Zero out the gradient before backpropagation\n",
        "        disc_opt.zero_grad()\n",
        "\n",
        "        # Calculate discriminator loss\n",
        "        disc_loss = get_disc_loss(gen, disc, criterion, real, cur_batch_size, z_dim, device)\n",
        "        assert (disc_loss - 0.68).abs() < 0.05\n",
        "\n",
        "        # Update gradients\n",
        "        disc_loss.backward(retain_graph=True)\n",
        "\n",
        "        # Check that they detached correctly\n",
        "        assert gen.gen[0][0].weight.grad is None\n",
        "\n",
        "        # Update optimizer\n",
        "        old_weight = disc.disc[0][0].weight.data.clone()\n",
        "        disc_opt.step()\n",
        "        new_weight = disc.disc[0][0].weight.data\n",
        "\n",
        "        # Check that some discriminator weights changed\n",
        "        assert not torch.all(torch.eq(old_weight, new_weight))\n",
        "        num_steps += 1\n",
        "        if num_steps >= max_tests:\n",
        "            break\n",
        "\n",
        "test_disc_reasonable()\n",
        "test_disc_loss()\n",
        "print(\"Success!\")"
      ],
      "metadata": {
        "colab": {
          "base_uri": "https://localhost:8080/"
        },
        "id": "vTPjPsLr87Q7",
        "outputId": "c795b40b-f1cc-4f90-ca25-d28cf9167b65"
      },
      "execution_count": null,
      "outputs": [
        {
          "output_type": "stream",
          "name": "stdout",
          "text": [
            "Success!\n"
          ]
        }
      ]
    },
    {
      "cell_type": "code",
      "source": [
        "# UNQ_C7 (UNIQUE CELL IDENTIFIER, DO NOT EDIT)\n",
        "# GRADED FUNCTION: get_gen_loss\n",
        "def get_gen_loss(gen, disc, criterion, num_images, z_dim, device):\n",
        "    '''\n",
        "    Return the loss of the generator given inputs.\n",
        "    Parameters:\n",
        "        gen: the generator model, which returns an image given z-dimensional noise\n",
        "        disc: the discriminator model, which returns a single-dimensional prediction of real/fake\n",
        "        criterion: the loss function, which should be used to compare\n",
        "               the discriminator's predictions to the ground truth reality of the images\n",
        "               (e.g. fake = 0, real = 1)\n",
        "        num_images: the number of images the generator should produce,\n",
        "                which is also the length of the real images\n",
        "        z_dim: the dimension of the noise vector, a scalar\n",
        "        device: the device type\n",
        "    Returns:\n",
        "        gen_loss: a torch scalar loss value for the current batch\n",
        "    '''\n",
        "    #     These are the steps you will need to complete:\n",
        "    #       1) Create noise vectors and generate a batch of fake images.\n",
        "    #           Remember to pass the device argument to the get_noise function.\n",
        "    #       2) Get the discriminator's prediction of the fake image.\n",
        "    #       3) Calculate the generator's loss. Remember the generator wants\n",
        "    #          the discriminator to think that its fake images are real\n",
        "    #     *Important*: You should NOT write your own loss function here - use criterion(pred, true)!\n",
        "\n",
        "    #### START CODE HERE ####\n",
        "    fake_noise = get_noise(num_images, z_dim, device=device)\n",
        "    fake = gen(fake_noise)\n",
        "    disc_fake_pred = disc(fake)\n",
        "    gen_loss = criterion(disc_fake_pred, torch.ones_like(disc_fake_pred))\n",
        "    #### END CODE HERE ####\n",
        "    return gen_loss\n",
        "def test_gen_reasonable(num_images=10):\n",
        "    z_dim = 64\n",
        "    gen = torch.zeros_like\n",
        "    disc = nn.Identity()\n",
        "    criterion = torch.mul # Multiply\n",
        "    gen_loss_tensor = get_gen_loss(gen, disc, criterion, num_images, z_dim, 'cpu')\n",
        "    assert torch.all(torch.abs(gen_loss_tensor) < 1e-5)\n",
        "    #Verify shape. Related to gen_noise parametrization\n",
        "    assert tuple(gen_loss_tensor.shape) == (num_images, z_dim)\n",
        "\n",
        "    gen = torch.ones_like\n",
        "    disc = nn.Identity()\n",
        "    criterion = torch.mul # Multiply\n",
        "    real = torch.zeros(num_images, 1)\n",
        "    gen_loss_tensor = get_gen_loss(gen, disc, criterion, num_images, z_dim, 'cpu')\n",
        "    assert torch.all(torch.abs(gen_loss_tensor - 1) < 1e-5)\n",
        "    #Verify shape. Related to gen_noise parametrization\n",
        "    assert tuple(gen_loss_tensor.shape) == (num_images, z_dim)\n",
        "\n",
        "\n",
        "def test_gen_loss(num_images):\n",
        "    z_dim = 64\n",
        "    gen = Generator(z_dim).to(device)\n",
        "    gen_opt = torch.optim.Adam(gen.parameters(), lr=lr)\n",
        "    disc = Discriminator().to(device)\n",
        "    disc_opt = torch.optim.Adam(disc.parameters(), lr=lr)\n",
        "\n",
        "    gen_loss = get_gen_loss(gen, disc, criterion, num_images, z_dim, device)\n",
        "\n",
        "    # Check that the loss is reasonable\n",
        "    assert (gen_loss - 0.7).abs() < 0.1\n",
        "    gen_loss.backward()\n",
        "    old_weight = gen.gen[0][0].weight.clone()\n",
        "    gen_opt.step()\n",
        "    new_weight = gen.gen[0][0].weight\n",
        "    assert not torch.all(torch.eq(old_weight, new_weight))\n",
        "\n",
        "\n",
        "test_gen_reasonable(10)\n",
        "test_gen_loss(18)\n",
        "print(\"Success!\")"
      ],
      "metadata": {
        "colab": {
          "base_uri": "https://localhost:8080/"
        },
        "id": "38WQfsO78qmE",
        "outputId": "88b2cfdd-e013-4b9e-db62-664f14896cd1"
      },
      "execution_count": null,
      "outputs": [
        {
          "output_type": "stream",
          "name": "stdout",
          "text": [
            "Success!\n"
          ]
        }
      ]
    },
    {
      "cell_type": "code",
      "source": [
        "# Define the number of epochs\n",
        "n_epochs = 10  # For example, you can set it to 10\n",
        "\n",
        "cur_step = 0\n",
        "mean_generator_loss = 0\n",
        "mean_discriminator_loss = 0\n",
        "test_generator = True # Whether the generator should be tested\n",
        "gen_loss = False\n",
        "error = False\n",
        "for epoch in range(n_epochs):\n",
        "\n",
        "    # Dataloader returns the batches\n",
        "    for real, _ in tqdm(dataloader):\n",
        "        cur_batch_size = len(real)\n",
        "\n",
        "        # Flatten the batch of real images from the dataset\n",
        "        real = real.view(cur_batch_size, -1).to(device)\n",
        "\n",
        "        ### Update discriminator ###\n",
        "        # Zero out the gradients before backpropagation\n",
        "        disc_opt.zero_grad()\n",
        "\n",
        "        # Calculate discriminator loss\n",
        "        disc_loss = get_disc_loss(gen, disc, criterion, real, cur_batch_size, z_dim, device)\n",
        "\n",
        "        # Update gradients\n",
        "        disc_loss.backward(retain_graph=True)\n",
        "\n",
        "        # Update optimizer\n",
        "        disc_opt.step()\n",
        "\n",
        "        # For testing purposes, to keep track of the generator weights\n",
        "        if test_generator:\n",
        "            old_generator_weights = gen.gen[0][0].weight.detach().clone()\n",
        "\n",
        "        ### Update generator ###\n",
        "        #     Hint: This code will look a lot like the discriminator updates!\n",
        "        #     These are the steps you will need to complete:\n",
        "        #       1) Zero out the gradients.\n",
        "        #       2) Calculate the generator loss, assigning it to gen_loss.\n",
        "        #       3) Backprop through the generator: update the gradients and optimizer.\n",
        "        #### START CODE HERE ####\n",
        "        gen_opt.zero_grad()\n",
        "        gen_loss = get_gen_loss(gen, disc, criterion, cur_batch_size, z_dim, device)\n",
        "        gen_loss.backward()\n",
        "        gen_opt.step()\n",
        "        #### END CODE HERE ####\n",
        "\n",
        "        # For testing purposes, to check that your code changes the generator weights\n",
        "        if test_generator:\n",
        "            try:\n",
        "                assert lr > 0.0000002 or (gen.gen[0][0].weight.grad.abs().max() < 0.0005 and epoch == 0)\n",
        "                assert torch.any(gen.gen[0][0].weight.detach().clone() != old_generator_weights)\n",
        "            except:\n",
        "                error = True\n",
        "                print(\"Runtime tests have failed\")\n",
        "\n",
        "        # Keep track of the average discriminator loss\n",
        "        mean_discriminator_loss += disc_loss.item() / display_step\n",
        "\n",
        "        # Keep track of the average generator loss\n",
        "        mean_generator_loss += gen_loss.item() / display_step\n",
        "\n",
        "        ### Visualization code ###\n",
        "        if cur_step % display_step == 0 and cur_step > 0:\n",
        "            print(f\"Step {cur_step}: Generator loss: {mean_generator_loss}, discriminator loss: {mean_discriminator_loss}\")\n",
        "            fake_noise = get_noise(cur_batch_size, z_dim, device=device)\n",
        "            fake = gen(fake_noise)\n",
        "            show_tensor_images(fake)\n",
        "            show_tensor_images(real)\n",
        "            mean_generator_loss = 0\n",
        "            mean_discriminator_loss = 0\n",
        "        cur_step += 1"
      ],
      "metadata": {
        "id": "tPi_e98U9UHm",
        "outputId": "6c0fd9cf-001f-41aa-c00f-43592662e3a1",
        "colab": {
          "base_uri": "https://localhost:8080/",
          "height": 211
        }
      },
      "execution_count": null,
      "outputs": [
        {
          "output_type": "error",
          "ename": "NameError",
          "evalue": "name 'tqdm' is not defined",
          "traceback": [
            "\u001b[0;31m---------------------------------------------------------------------------\u001b[0m",
            "\u001b[0;31mNameError\u001b[0m                                 Traceback (most recent call last)",
            "\u001b[0;32m<ipython-input-5-db1efd4d71b3>\u001b[0m in \u001b[0;36m<cell line: 10>\u001b[0;34m()\u001b[0m\n\u001b[1;32m     11\u001b[0m \u001b[0;34m\u001b[0m\u001b[0m\n\u001b[1;32m     12\u001b[0m     \u001b[0;31m# Dataloader returns the batches\u001b[0m\u001b[0;34m\u001b[0m\u001b[0;34m\u001b[0m\u001b[0m\n\u001b[0;32m---> 13\u001b[0;31m     \u001b[0;32mfor\u001b[0m \u001b[0mreal\u001b[0m\u001b[0;34m,\u001b[0m \u001b[0m_\u001b[0m \u001b[0;32min\u001b[0m \u001b[0mtqdm\u001b[0m\u001b[0;34m(\u001b[0m\u001b[0mdataloader\u001b[0m\u001b[0;34m)\u001b[0m\u001b[0;34m:\u001b[0m\u001b[0;34m\u001b[0m\u001b[0;34m\u001b[0m\u001b[0m\n\u001b[0m\u001b[1;32m     14\u001b[0m         \u001b[0mcur_batch_size\u001b[0m \u001b[0;34m=\u001b[0m \u001b[0mlen\u001b[0m\u001b[0;34m(\u001b[0m\u001b[0mreal\u001b[0m\u001b[0;34m)\u001b[0m\u001b[0;34m\u001b[0m\u001b[0;34m\u001b[0m\u001b[0m\n\u001b[1;32m     15\u001b[0m \u001b[0;34m\u001b[0m\u001b[0m\n",
            "\u001b[0;31mNameError\u001b[0m: name 'tqdm' is not defined"
          ]
        }
      ]
    }
  ]
}